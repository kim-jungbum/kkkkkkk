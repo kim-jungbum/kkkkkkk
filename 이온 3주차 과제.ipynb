{
 "cells": [
  {
   "cell_type": "code",
   "execution_count": 57,
   "id": "aadad7b9",
   "metadata": {},
   "outputs": [
    {
     "name": "stdout",
     "output_type": "stream",
     "text": [
      "1 2 3 4 5 6 \n",
      "21\n"
     ]
    }
   ],
   "source": [
    "from array import array\n",
    "from collections import Counter \n",
    "\n",
    "number_data_array = array('i', map(int,input().split()))\n",
    "\n",
    "res = len(number_data_array)\n",
    "\n",
    "def funct(a, b):\n",
    "    vall=0\n",
    "    \n",
    "    for i in range(0, b):\n",
    "        vall+=a[i]\n",
    "    return vall\n",
    " \n",
    " \n",
    "vall = funct(number_data_array, res)\n",
    "\n",
    "print(vall)\n"
   ]
  }
 ],
 "metadata": {
  "kernelspec": {
   "display_name": "Python 3 (ipykernel)",
   "language": "python",
   "name": "python3"
  },
  "language_info": {
   "codemirror_mode": {
    "name": "ipython",
    "version": 3
   },
   "file_extension": ".py",
   "mimetype": "text/x-python",
   "name": "python",
   "nbconvert_exporter": "python",
   "pygments_lexer": "ipython3",
   "version": "3.9.7"
  }
 },
 "nbformat": 4,
 "nbformat_minor": 5
}
